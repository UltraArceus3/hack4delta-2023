{
 "cells": [
  {
   "cell_type": "code",
   "execution_count": 1,
   "metadata": {},
   "outputs": [
    {
     "name": "stderr",
     "output_type": "stream",
     "text": [
      "c:\\Users\\ranyk\\AppData\\Local\\Programs\\Python\\Python311\\Lib\\site-packages\\tqdm\\auto.py:21: TqdmWarning: IProgress not found. Please update jupyter and ipywidgets. See https://ipywidgets.readthedocs.io/en/stable/user_install.html\n",
      "  from .autonotebook import tqdm as notebook_tqdm\n",
      "c:\\Users\\ranyk\\AppData\\Local\\Programs\\Python\\Python311\\Lib\\site-packages\\transformers\\models\\vit\\feature_extraction_vit.py:28: FutureWarning: The class ViTFeatureExtractor is deprecated and will be removed in version 5 of Transformers. Please use ViTImageProcessor instead.\n",
      "  warnings.warn(\n"
     ]
    }
   ],
   "source": [
    "import os\n",
    "from transformers import AutoModelForImageClassification, AutoFeatureExtractor\n",
    "from PIL import Image\n",
    "import numpy as np\n",
    "import torch\n",
    "import matplotlib.pyplot as plt\n",
    "\n",
    "model = AutoModelForImageClassification.from_pretrained(\"EdBianchi/vit-fire-detection\")\n",
    "feature_extractor = AutoFeatureExtractor.from_pretrained(\"EdBianchi/vit-fire-detection\")\n",
    "id2label = {0: \"fire\", 1: \"no_fire\"}\n",
    "\n",
    "data_dir = \"../data/nova_scotia/\""
   ]
  },
  {
   "cell_type": "code",
   "execution_count": 2,
   "metadata": {},
   "outputs": [
    {
     "name": "stdout",
     "output_type": "stream",
     "text": [
      "2356 / 3084\r"
     ]
    }
   ],
   "source": [
    "frames = os.listdir(data_dir + \"frames/\")\n",
    "\n",
    "\n",
    "for i in range(len(frames)):\n",
    "    print(f\"{i + 1} / {len(frames)}\", end = \"\\r\")\n",
    "    img = Image.open(data_dir + \"frames/\" + frames[i])\n",
    "    inputs = feature_extractor(images=img, return_tensors=\"pt\")\n",
    "    with torch.no_grad():\n",
    "        outputs = model(**inputs, output_attentions=True)\n",
    "\n",
    "    attentions = outputs.attentions\n",
    "    heads = attentions[-1][0]\n",
    "    mean_heads = torch.mean(heads, dim=0)\n",
    "    mean_heads = mean_heads[:, 1:,]\n",
    "    plt.imshow(mean_heads[0].reshape(14, 14).numpy(), cmap='hot', interpolation='nearest')\n",
    "    #plt.title(\"Self-Attention Map of CLS token (What the model sees as important)\")\n",
    "    plt.savefig(f\"{data_dir}attention_maps/attn_{i}.png\")\n",
    "    plt.clf()\n",
    "\n",
    "    plt.barh(list(id2label.values()), outputs.logits.softmax(-1).squeeze().detach().numpy()[:2], color=[\"red\", \"blue\"])\n",
    "    plt.xlim([0, 1])\n",
    "    plt.savefig(f\"{data_dir}predictions/pred_{i}.png\")\n",
    "    plt.clf()\n"
   ]
  },
  {
   "cell_type": "code",
   "execution_count": null,
   "metadata": {},
   "outputs": [
    {
     "name": "stdout",
     "output_type": "stream",
     "text": [
      "700 / 700\r"
     ]
    }
   ],
   "source": [
    "scale = 3\n",
    "for i in range(len(frames)):\n",
    "    print(f\"{i + 1} / {len(frames)}\", end = \"\\r\")\n",
    "    img1 = Image.open(data_dir + \"frames/\" + frames[i])\n",
    "    img2 = Image.open(f\"{data_dir}attention_maps/attn_{i}.png\")\n",
    "    img3 = Image.open(f\"{data_dir}predictions/pred_{i}.png\")\n",
    "\n",
    "    img2 = img2.resize((img2.size[0] // scale, img2.size[1] // scale))\n",
    "    img3 = img3.resize((img3.size[0] // scale, img3.size[1] // scale))\n",
    "\n",
    "    img1.paste(img2, (0, img1.size[1] - img2.size[1]))\n",
    "    img1.paste(img3, (img1.size[0] - img3.size[0], img1.size[1] - img3.size[1]))\n",
    "\n",
    "    img1.save(f\"{data_dir}final/final_{str(i).zfill(4)}.png\")"
   ]
  }
 ],
 "metadata": {
  "kernelspec": {
   "display_name": "Python 3",
   "language": "python",
   "name": "python3"
  },
  "language_info": {
   "codemirror_mode": {
    "name": "ipython",
    "version": 3
   },
   "file_extension": ".py",
   "mimetype": "text/x-python",
   "name": "python",
   "nbconvert_exporter": "python",
   "pygments_lexer": "ipython3",
   "version": "3.11.4"
  }
 },
 "nbformat": 4,
 "nbformat_minor": 2
}
